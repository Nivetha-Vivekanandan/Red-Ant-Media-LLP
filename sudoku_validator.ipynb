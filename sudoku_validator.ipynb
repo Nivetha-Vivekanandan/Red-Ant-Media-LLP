{
  "nbformat": 4,
  "nbformat_minor": 0,
  "metadata": {
    "colab": {
      "name": "sudoku validator.ipynb",
      "provenance": []
    },
    "kernelspec": {
      "name": "python3",
      "display_name": "Python 3"
    },
    "language_info": {
      "name": "python"
    }
  },
  "cells": [
    {
      "cell_type": "markdown",
      "metadata": {
        "id": "cbgRYwYAMP4h"
      },
      "source": [
        "\n",
        "NAME : NIVETHA V\n",
        "\n",
        "ROLL NUM : 1833033\n",
        "\n",
        "DEPT : DECISION AND COMPUTING SCIENCES\n",
        "\n",
        "QUESTION : 3\n",
        "\n",
        "\n",
        "\n",
        "\n"
      ]
    },
    {
      "cell_type": "markdown",
      "metadata": {
        "id": "PU6i7v-2LpKc"
      },
      "source": [
        "Importing Libraries"
      ]
    },
    {
      "cell_type": "code",
      "metadata": {
        "id": "sOZgAJ5sLDR8"
      },
      "source": [
        "import numpy as np"
      ],
      "execution_count": 1,
      "outputs": []
    },
    {
      "cell_type": "markdown",
      "metadata": {
        "id": "VVdqdj-WLyb6"
      },
      "source": [
        "9 X 9 PATTERN FOR SUDOKU"
      ]
    },
    {
      "cell_type": "code",
      "metadata": {
        "id": "iWoHpx0yLEX_"
      },
      "source": [
        "grid = [[5,3,0,0,7,0,0,0,0],\n",
        "        [6,0,0,1,9,5,0,0,0],\n",
        "        [0,9,8,0,0,0,0,6,0],\n",
        "        [8,0,0,0,6,0,0,0,3],\n",
        "        [4,0,0,8,0,3,0,0,1],\n",
        "        [7,0,0,0,2,0,0,0,6],\n",
        "        [0,6,0,0,0,0,2,8,0],\n",
        "        [0,0,0,0,1,9,0,0,5],\n",
        "        [0,0,0,0,0,0,0,0,0]]"
      ],
      "execution_count": 2,
      "outputs": []
    },
    {
      "cell_type": "markdown",
      "metadata": {
        "id": "cxDBw33rL89c"
      },
      "source": [
        "Traversing the cells"
      ]
    },
    {
      "cell_type": "code",
      "metadata": {
        "id": "k92Xs1inLHIl"
      },
      "source": [
        "def possible(row, column, number):\n",
        "    global grid\n",
        "    for i in range(0,9):\n",
        "        if grid[row][i] == number:\n",
        "            return False\n",
        "\n",
        "    for i in range(0,9):\n",
        "        if grid[i][column] == number:\n",
        "            return False\n",
        "    \n",
        "    x0 = (column // 3) * 3\n",
        "    y0 = (row // 3) * 3\n",
        "    for i in range(0,3):\n",
        "        for j in range(0,3):\n",
        "            if grid[y0+i][x0+j] == number:\n",
        "                return False\n",
        "\n",
        "    return True"
      ],
      "execution_count": 3,
      "outputs": []
    },
    {
      "cell_type": "markdown",
      "metadata": {
        "id": "S4mPupHHMB-v"
      },
      "source": [
        "Check for Validation of pattern"
      ]
    },
    {
      "cell_type": "code",
      "metadata": {
        "colab": {
          "base_uri": "https://localhost:8080/"
        },
        "id": "YYdb7lisLLvk",
        "outputId": "88f3136d-b124-4e5e-afca-82008d28b6ee"
      },
      "source": [
        "def isValidSudoku(grid):\n",
        "  for i in range(9):\n",
        "      row = {}\n",
        "      column = {}\n",
        "      block = {}\n",
        "      row_cube = 3 * (i//3)\n",
        "      column_cube = 3 * (i%3)\n",
        "      for j in range(9):\n",
        "        if grid[i][j]!=0 and grid[i][j] in row:\n",
        "          return False\n",
        "        row[grid[i][j]] = 1\n",
        "        if grid[j][i]!=0 and grid[j][i] in column:\n",
        "          return False\n",
        "        column[grid[j][i]] = 1\n",
        "        rc= row_cube+j//3\n",
        "        cc = column_cube + j%3\n",
        "        if grid[rc][cc] in block and grid[rc][cc]!=0:\n",
        "          return False\n",
        "        block[grid[rc][cc]]=1\n",
        "  return True\n",
        "\n",
        "isValidSudoku(grid)"
      ],
      "execution_count": 4,
      "outputs": [
        {
          "output_type": "execute_result",
          "data": {
            "text/plain": [
              "True"
            ]
          },
          "metadata": {
            "tags": []
          },
          "execution_count": 4
        }
      ]
    },
    {
      "cell_type": "code",
      "metadata": {
        "colab": {
          "base_uri": "https://localhost:8080/"
        },
        "id": "yx4tfcWnLRNv",
        "outputId": "757b7e08-55c1-4a81-b493-b11b406cd13e"
      },
      "source": [
        "def solve():\n",
        "  global grid\n",
        "  if isValidSudoku(grid) == False:\n",
        "    print('NO SOLUTION since Grid is INVALID!')\n",
        "  else:\n",
        "    for row in range(0,9):\n",
        "        for column in range(0,9):\n",
        "            if grid[row][column] == 0:\n",
        "                for number in range(1,10):\n",
        "                    if possible(row, column, number):\n",
        "                        grid[row][column] = number\n",
        "                        solve()\n",
        "                        grid[row][column] = 0\n",
        "                return\n",
        "    print('Solution \\n', np.matrix(grid))\n",
        "    input('possible solutions')\n",
        "\n",
        "solve()"
      ],
      "execution_count": null,
      "outputs": [
        {
          "output_type": "stream",
          "text": [
            "Solution \n",
            " [[5 3 4 6 7 8 1 9 2]\n",
            " [6 7 2 1 9 5 3 4 8]\n",
            " [1 9 8 3 4 2 5 6 7]\n",
            " [8 5 9 7 6 1 4 2 3]\n",
            " [4 2 6 8 5 3 9 7 1]\n",
            " [7 1 3 9 2 4 8 5 6]\n",
            " [9 6 1 5 3 7 2 8 4]\n",
            " [2 8 7 4 1 9 6 3 5]\n",
            " [3 4 5 2 8 6 7 1 9]]\n"
          ],
          "name": "stdout"
        }
      ]
    },
    {
      "cell_type": "code",
      "metadata": {
        "id": "H4IaU-VoLTso"
      },
      "source": [
        ""
      ],
      "execution_count": null,
      "outputs": []
    }
  ]
}